{
  "nbformat": 4,
  "nbformat_minor": 0,
  "metadata": {
    "colab": {
      "name": "usa-corona.ipynb",
      "provenance": [],
      "authorship_tag": "ABX9TyN4l3RKG7pwyeRfNtL+aPX8",
      "include_colab_link": true
    },
    "kernelspec": {
      "name": "python3",
      "display_name": "Python 3"
    }
  },
  "cells": [
    {
      "cell_type": "markdown",
      "metadata": {
        "id": "view-in-github",
        "colab_type": "text"
      },
      "source": [
        "<a href=\"https://colab.research.google.com/github/noahgift/coronavirus/blob/master/usa_corona.ipynb\" target=\"_parent\"><img src=\"https://colab.research.google.com/assets/colab-badge.svg\" alt=\"Open In Colab\"/></a>"
      ]
    },
    {
      "cell_type": "markdown",
      "metadata": {
        "id": "VdPk3S-hPVD4",
        "colab_type": "text"
      },
      "source": [
        "## Ingest\n"
      ]
    },
    {
      "cell_type": "code",
      "metadata": {
        "id": "JMmEO5rPPUVU",
        "colab_type": "code",
        "colab": {
          "base_uri": "https://localhost:8080/",
          "height": 136
        },
        "outputId": "45b440a6-b85a-4968-eb7d-77af7a0f290c"
      },
      "source": [
        "import pandas as pd\n",
        "df = pd.read_csv(\"https://raw.githubusercontent.com/noahgift/coronavirus/master/eda-corona.csv\")\n",
        "df.head()"
      ],
      "execution_count": 1,
      "outputs": [
        {
          "output_type": "execute_result",
          "data": {
            "text/html": [
              "<div>\n",
              "<style scoped>\n",
              "    .dataframe tbody tr th:only-of-type {\n",
              "        vertical-align: middle;\n",
              "    }\n",
              "\n",
              "    .dataframe tbody tr th {\n",
              "        vertical-align: top;\n",
              "    }\n",
              "\n",
              "    .dataframe thead th {\n",
              "        text-align: right;\n",
              "    }\n",
              "</style>\n",
              "<table border=\"1\" class=\"dataframe\">\n",
              "  <thead>\n",
              "    <tr style=\"text-align: right;\">\n",
              "      <th></th>\n",
              "      <th>County</th>\n",
              "      <th>Cases</th>\n",
              "      <th>Deaths</th>\n",
              "      <th>Mortality Rate</th>\n",
              "      <th>median-rent</th>\n",
              "      <th>median-rent-usa</th>\n",
              "      <th>population</th>\n",
              "      <th>median-count-size-usa</th>\n",
              "      <th>homeless-percentage</th>\n",
              "      <th>homeless-count</th>\n",
              "      <th>distance-coast-miles</th>\n",
              "    </tr>\n",
              "  </thead>\n",
              "  <tbody>\n",
              "    <tr>\n",
              "      <th>0</th>\n",
              "      <td>King County, WA</td>\n",
              "      <td>128</td>\n",
              "      <td>19.0</td>\n",
              "      <td>0.15</td>\n",
              "      <td>1768.0</td>\n",
              "      <td>1216.0</td>\n",
              "      <td>2189000.0</td>\n",
              "      <td>23999.0</td>\n",
              "      <td>0.005</td>\n",
              "      <td>11643</td>\n",
              "      <td>13.8</td>\n",
              "    </tr>\n",
              "    <tr>\n",
              "      <th>1</th>\n",
              "      <td>Santa Clara, CA</td>\n",
              "      <td>38</td>\n",
              "      <td>NaN</td>\n",
              "      <td>NaN</td>\n",
              "      <td>2962.0</td>\n",
              "      <td>1216.0</td>\n",
              "      <td>1938000.0</td>\n",
              "      <td>23999.0</td>\n",
              "      <td>0.005</td>\n",
              "      <td>9706</td>\n",
              "      <td>8.0</td>\n",
              "    </tr>\n",
              "    <tr>\n",
              "      <th>2</th>\n",
              "      <td>Westchester County, NY</td>\n",
              "      <td>98</td>\n",
              "      <td>NaN</td>\n",
              "      <td>NaN</td>\n",
              "      <td>1967.0</td>\n",
              "      <td>1216.0</td>\n",
              "      <td>980244.0</td>\n",
              "      <td>23999.0</td>\n",
              "      <td>0.002</td>\n",
              "      <td>1812</td>\n",
              "      <td>11.0</td>\n",
              "    </tr>\n",
              "  </tbody>\n",
              "</table>\n",
              "</div>"
            ],
            "text/plain": [
              "                   County  Cases  ...  homeless-count  distance-coast-miles\n",
              "0         King County, WA    128  ...           11643                  13.8\n",
              "1         Santa Clara, CA     38  ...            9706                   8.0\n",
              "2  Westchester County, NY     98  ...            1812                  11.0\n",
              "\n",
              "[3 rows x 11 columns]"
            ]
          },
          "metadata": {
            "tags": []
          },
          "execution_count": 1
        }
      ]
    },
    {
      "cell_type": "code",
      "metadata": {
        "id": "3rvH01QpPhfA",
        "colab_type": "code",
        "colab": {}
      },
      "source": [
        ""
      ],
      "execution_count": 0,
      "outputs": []
    },
    {
      "cell_type": "markdown",
      "metadata": {
        "id": "cOrLqvJnPkOp",
        "colab_type": "text"
      },
      "source": [
        "## EDA"
      ]
    },
    {
      "cell_type": "code",
      "metadata": {
        "id": "6F8RHiqBPmNM",
        "colab_type": "code",
        "colab": {
          "base_uri": "https://localhost:8080/",
          "height": 390
        },
        "outputId": "f18722c4-3bef-4f4e-e165-7d2c2e6b5617"
      },
      "source": [
        "import seaborn as sns\n",
        "sns.heatmap(df.corr())"
      ],
      "execution_count": 2,
      "outputs": [
        {
          "output_type": "execute_result",
          "data": {
            "text/plain": [
              "<matplotlib.axes._subplots.AxesSubplot at 0x7fcf1b74b080>"
            ]
          },
          "metadata": {
            "tags": []
          },
          "execution_count": 2
        },
        {
          "output_type": "display_data",
          "data": {
            "image/png": "[encoded data removed]",
            "text/plain": [
              "<Figure size 432x288 with 2 Axes>"
            ]
          },
          "metadata": {
            "tags": []
          }
        }
      ]
    },
    {
      "cell_type": "code",
      "metadata": {
        "id": "inv-ZndYPq1F",
        "colab_type": "code",
        "colab": {
          "base_uri": "https://localhost:8080/",
          "height": 377
        },
        "outputId": "f5900807-0a44-4e64-d931-2e2e5e7f6a8a"
      },
      "source": [
        "df.corr()"
      ],
      "execution_count": 3,
      "outputs": [
        {
          "output_type": "execute_result",
          "data": {
            "text/html": [
              "<div>\n",
              "<style scoped>\n",
              "    .dataframe tbody tr th:only-of-type {\n",
              "        vertical-align: middle;\n",
              "    }\n",
              "\n",
              "    .dataframe tbody tr th {\n",
              "        vertical-align: top;\n",
              "    }\n",
              "\n",
              "    .dataframe thead th {\n",
              "        text-align: right;\n",
              "    }\n",
              "</style>\n",
              "<table border=\"1\" class=\"dataframe\">\n",
              "  <thead>\n",
              "    <tr style=\"text-align: right;\">\n",
              "      <th></th>\n",
              "      <th>Cases</th>\n",
              "      <th>Deaths</th>\n",
              "      <th>Mortality Rate</th>\n",
              "      <th>median-rent</th>\n",
              "      <th>median-rent-usa</th>\n",
              "      <th>population</th>\n",
              "      <th>median-count-size-usa</th>\n",
              "      <th>homeless-percentage</th>\n",
              "      <th>homeless-count</th>\n",
              "      <th>distance-coast-miles</th>\n",
              "    </tr>\n",
              "  </thead>\n",
              "  <tbody>\n",
              "    <tr>\n",
              "      <th>Cases</th>\n",
              "      <td>1.000000</td>\n",
              "      <td>NaN</td>\n",
              "      <td>NaN</td>\n",
              "      <td>-0.984324</td>\n",
              "      <td>NaN</td>\n",
              "      <td>0.007910</td>\n",
              "      <td>NaN</td>\n",
              "      <td>-0.188982</td>\n",
              "      <td>-0.003059</td>\n",
              "      <td>0.985548</td>\n",
              "    </tr>\n",
              "    <tr>\n",
              "      <th>Deaths</th>\n",
              "      <td>NaN</td>\n",
              "      <td>NaN</td>\n",
              "      <td>NaN</td>\n",
              "      <td>NaN</td>\n",
              "      <td>NaN</td>\n",
              "      <td>NaN</td>\n",
              "      <td>NaN</td>\n",
              "      <td>NaN</td>\n",
              "      <td>NaN</td>\n",
              "      <td>NaN</td>\n",
              "    </tr>\n",
              "    <tr>\n",
              "      <th>Mortality Rate</th>\n",
              "      <td>NaN</td>\n",
              "      <td>NaN</td>\n",
              "      <td>NaN</td>\n",
              "      <td>NaN</td>\n",
              "      <td>NaN</td>\n",
              "      <td>NaN</td>\n",
              "      <td>NaN</td>\n",
              "      <td>NaN</td>\n",
              "      <td>NaN</td>\n",
              "      <td>NaN</td>\n",
              "    </tr>\n",
              "    <tr>\n",
              "      <th>median-rent</th>\n",
              "      <td>-0.984324</td>\n",
              "      <td>NaN</td>\n",
              "      <td>NaN</td>\n",
              "      <td>1.000000</td>\n",
              "      <td>NaN</td>\n",
              "      <td>0.168577</td>\n",
              "      <td>NaN</td>\n",
              "      <td>0.359211</td>\n",
              "      <td>0.179379</td>\n",
              "      <td>-0.940222</td>\n",
              "    </tr>\n",
              "    <tr>\n",
              "      <th>median-rent-usa</th>\n",
              "      <td>NaN</td>\n",
              "      <td>NaN</td>\n",
              "      <td>NaN</td>\n",
              "      <td>NaN</td>\n",
              "      <td>NaN</td>\n",
              "      <td>NaN</td>\n",
              "      <td>NaN</td>\n",
              "      <td>NaN</td>\n",
              "      <td>NaN</td>\n",
              "      <td>NaN</td>\n",
              "    </tr>\n",
              "    <tr>\n",
              "      <th>population</th>\n",
              "      <td>0.007910</td>\n",
              "      <td>NaN</td>\n",
              "      <td>NaN</td>\n",
              "      <td>0.168577</td>\n",
              "      <td>NaN</td>\n",
              "      <td>1.000000</td>\n",
              "      <td>NaN</td>\n",
              "      <td>0.980455</td>\n",
              "      <td>0.999940</td>\n",
              "      <td>0.177189</td>\n",
              "    </tr>\n",
              "    <tr>\n",
              "      <th>median-count-size-usa</th>\n",
              "      <td>NaN</td>\n",
              "      <td>NaN</td>\n",
              "      <td>NaN</td>\n",
              "      <td>NaN</td>\n",
              "      <td>NaN</td>\n",
              "      <td>NaN</td>\n",
              "      <td>NaN</td>\n",
              "      <td>NaN</td>\n",
              "      <td>NaN</td>\n",
              "      <td>NaN</td>\n",
              "    </tr>\n",
              "    <tr>\n",
              "      <th>homeless-percentage</th>\n",
              "      <td>-0.188982</td>\n",
              "      <td>NaN</td>\n",
              "      <td>NaN</td>\n",
              "      <td>0.359211</td>\n",
              "      <td>NaN</td>\n",
              "      <td>0.980455</td>\n",
              "      <td>NaN</td>\n",
              "      <td>1.000000</td>\n",
              "      <td>0.982554</td>\n",
              "      <td>-0.019905</td>\n",
              "    </tr>\n",
              "    <tr>\n",
              "      <th>homeless-count</th>\n",
              "      <td>-0.003059</td>\n",
              "      <td>NaN</td>\n",
              "      <td>NaN</td>\n",
              "      <td>0.179379</td>\n",
              "      <td>NaN</td>\n",
              "      <td>0.999940</td>\n",
              "      <td>NaN</td>\n",
              "      <td>0.982554</td>\n",
              "      <td>1.000000</td>\n",
              "      <td>0.166383</td>\n",
              "    </tr>\n",
              "    <tr>\n",
              "      <th>distance-coast-miles</th>\n",
              "      <td>0.985548</td>\n",
              "      <td>NaN</td>\n",
              "      <td>NaN</td>\n",
              "      <td>-0.940222</td>\n",
              "      <td>NaN</td>\n",
              "      <td>0.177189</td>\n",
              "      <td>NaN</td>\n",
              "      <td>-0.019905</td>\n",
              "      <td>0.166383</td>\n",
              "      <td>1.000000</td>\n",
              "    </tr>\n",
              "  </tbody>\n",
              "</table>\n",
              "</div>"
            ],
            "text/plain": [
              "                          Cases  Deaths  ...  homeless-count  distance-coast-miles\n",
              "Cases                  1.000000     NaN  ...       -0.003059              0.985548\n",
              "Deaths                      NaN     NaN  ...             NaN                   NaN\n",
              "Mortality Rate              NaN     NaN  ...             NaN                   NaN\n",
              " median-rent          -0.984324     NaN  ...        0.179379             -0.940222\n",
              "median-rent-usa             NaN     NaN  ...             NaN                   NaN\n",
              "population             0.007910     NaN  ...        0.999940              0.177189\n",
              "median-count-size-usa       NaN     NaN  ...             NaN                   NaN\n",
              "homeless-percentage   -0.188982     NaN  ...        0.982554             -0.019905\n",
              "homeless-count        -0.003059     NaN  ...        1.000000              0.166383\n",
              "distance-coast-miles   0.985548     NaN  ...        0.166383              1.000000\n",
              "\n",
              "[10 rows x 10 columns]"
            ]
          },
          "metadata": {
            "tags": []
          },
          "execution_count": 3
        }
      ]
    },
    {
      "cell_type": "code",
      "metadata": {
        "id": "-HLhmYCOPtOe",
        "colab_type": "code",
        "colab": {}
      },
      "source": [
        ""
      ],
      "execution_count": 0,
      "outputs": []
    },
    {
      "cell_type": "markdown",
      "metadata": {
        "id": "JaToNNm1QAB7",
        "colab_type": "text"
      },
      "source": [
        "## Conclusion\n"
      ]
    },
    {
      "cell_type": "markdown",
      "metadata": {
        "id": "BP-kAGafQCRf",
        "colab_type": "text"
      },
      "source": [
        "Densely populated coastal cities with high rent are center of current outbreak.  They have high vulnerable population of homeless\n"
      ]
    },
    {
      "cell_type": "code",
      "metadata": {
        "id": "os1n5y5IQBbd",
        "colab_type": "code",
        "colab": {}
      },
      "source": [
        ""
      ],
      "execution_count": 0,
      "outputs": []
    }
  ]
}